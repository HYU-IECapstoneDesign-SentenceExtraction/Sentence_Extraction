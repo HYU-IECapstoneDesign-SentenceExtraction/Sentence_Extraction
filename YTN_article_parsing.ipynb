{
 "cells": [
  {
   "cell_type": "markdown",
   "metadata": {},
   "source": [
    "### YTN 신문사 기사 크롤링(폭염 기사)"
   ]
  },
  {
   "cell_type": "code",
   "execution_count": 3,
   "metadata": {},
   "outputs": [],
   "source": [
    "# csv파일 불러옴\n",
    "import csv\n",
    "\n",
    "raw = []\n",
    "f = open(r'C:\\Users\\Yang\\Desktop\\project\\data_with_url.csv', 'r', encoding='utf-8')\n",
    "rdr = csv.reader(f)\n",
    "for line in rdr:\n",
    "    raw.append(line)\n",
    "f.close()"
   ]
  },
  {
   "cell_type": "code",
   "execution_count": 4,
   "metadata": {},
   "outputs": [],
   "source": [
    "# YTN 뉴스의 url만 불러옴\n",
    "url = []\n",
    "for i in range(len(raw)):\n",
    "    if(raw[i][6]=='YTN'):\n",
    "        url.append(raw[i][21])"
   ]
  },
  {
   "cell_type": "code",
   "execution_count": 18,
   "metadata": {},
   "outputs": [],
   "source": [
    "from bs4 import BeautifulSoup\n",
    "import requests\n",
    "import re"
   ]
  },
  {
   "cell_type": "code",
   "execution_count": 97,
   "metadata": {},
   "outputs": [
    {
     "name": "stdout",
     "output_type": "stream",
     "text": [
      "300번째 수행중\n",
      "600번째 수행중\n",
      "900번째 수행중\n",
      "1200번째 수행중\n",
      "1500번째 수행중\n",
      "1800번째 수행중\n",
      "2100번째 수행중\n",
      "2400번째 수행중\n",
      "2700번째 수행중\n",
      "3000번째 수행중\n",
      "3300번째 수행중\n",
      "3600번째 수행중\n",
      "3900번째 수행중\n",
      "4200번째 수행중\n",
      "4500번째 수행중\n",
      "4800번째 수행중\n",
      "5100번째 수행중\n",
      "5400번째 수행중\n",
      "5700번째 수행중\n"
     ]
    }
   ],
   "source": [
    "# 크롤링 수행\n",
    "count = 0\n",
    "text_list = []\n",
    "for i in url:\n",
    "    count = count+1\n",
    "    if(count%300==0):\n",
    "        print('{}번째 수행중'.format(count))\n",
    "    try:\n",
    "        req = requests.get(i)\n",
    "        soup = BeautifulSoup(req.text, 'html.parser')\n",
    "        sel_soup = soup.select('#CmAdContent > span')\n",
    "\n",
    "        text = str(sel_soup[0]).replace(\"<br/>\",\"\")\n",
    "        text = text.replace(\"<span>\",\"\")\n",
    "        text = text.replace(\"</span>\",\"\")\n",
    "        text = text.replace(\"\\n\",\"\")\n",
    "        text = text.replace(\"\\r\",\"\")\n",
    "        text_list.append(text)\n",
    "    except IndexError:\n",
    "        text_list.append(' ')"
   ]
  },
  {
   "cell_type": "code",
   "execution_count": 120,
   "metadata": {},
   "outputs": [],
   "source": [
    "# 약간의 전처리('YTN star OOO 기자입니다'같은거 지우기 위해)\n",
    "for i in range(len(text_list)):\n",
    "    num_Y = text_list[i].find('Y')\n",
    "    num_T = num_Y+1\n",
    "    if(text_list[i][num_T] == 'T'):\n",
    "        text_list[i] = text_list[i][:num_Y]"
   ]
  },
  {
   "cell_type": "code",
   "execution_count": 129,
   "metadata": {},
   "outputs": [],
   "source": [
    "# YTN 기사 csv파일로 저장\n",
    "import csv\n",
    "f = open(r'C:\\Users\\Yang\\Desktop\\project\\ytn_article.csv', 'w', encoding='utf-8', newline='')\n",
    "wr = csv.writer(f)\n",
    "for i in text_list:\n",
    "    wr.writerow([i])\n",
    "f.close()"
   ]
  }
 ],
 "metadata": {
  "kernelspec": {
   "display_name": "Python 3",
   "language": "python",
   "name": "python3"
  },
  "language_info": {
   "codemirror_mode": {
    "name": "ipython",
    "version": 3
   },
   "file_extension": ".py",
   "mimetype": "text/x-python",
   "name": "python",
   "nbconvert_exporter": "python",
   "pygments_lexer": "ipython3",
   "version": "3.6.8"
  }
 },
 "nbformat": 4,
 "nbformat_minor": 4
}
