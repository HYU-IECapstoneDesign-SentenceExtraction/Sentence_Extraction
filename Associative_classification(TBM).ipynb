{
 "cells": [
  {
   "cell_type": "markdown",
   "metadata": {},
   "source": [
    "## Data"
   ]
  },
  {
   "cell_type": "code",
   "execution_count": 213,
   "metadata": {},
   "outputs": [],
   "source": [
    "import csv\n",
    "directory = r'C:\\Users\\Yang\\Desktop\\project\\data\\TBM_data.csv'\n",
    "data = []\n",
    "f = open(directory, 'r', encoding='utf-8')\n",
    "rdr = csv.reader(f)\n",
    "for line in rdr:\n",
    "    data.append(line)\n",
    "f.close()  \n",
    "data[0][0] = 'Sunny' # 자꾸 다른거 포함됨"
   ]
  },
  {
   "cell_type": "code",
   "execution_count": 214,
   "metadata": {},
   "outputs": [],
   "source": [
    "train_index = [0,1,2,3,5,7,8,11,12]\n",
    "test_index = [4,6,9,10,13]\n",
    "\n",
    "train_data = []\n",
    "test_data = []\n",
    "\n",
    "for i in train_index:\n",
    "    train_data.append(data[i])\n",
    "\n",
    "for i in test_index:\n",
    "    test_data.append(data[i])"
   ]
  },
  {
   "cell_type": "code",
   "execution_count": 215,
   "metadata": {},
   "outputs": [
    {
     "data": {
      "text/plain": [
       "([['Sunny', 'Humidity=All', 'Temperature=All', 'FALSE', 'No'],\n",
       "  ['Sunny', 'Humidity=All', 'Temperature=All', 'TRUE', 'No'],\n",
       "  ['Overcast', 'Humidity=All', 'Temperature=All', 'FALSE', 'Yes'],\n",
       "  ['Rainy', 'Humidity=All', 'Temperature=All', 'FALSE', 'Yes'],\n",
       "  ['Rainy', 'Humidity=All', 'Temperature=All', 'TRUE', 'No'],\n",
       "  ['Sunny', 'Humidity=All', 'Temperature=All', 'FALSE', 'No'],\n",
       "  ['Sunny', 'Humidity=All', 'Temperature=All', 'FALSE', 'Yes'],\n",
       "  ['Overcast', 'Humidity=All', 'Temperature=All', 'TRUE', 'Yes'],\n",
       "  ['Overcast', 'Humidity=All', 'Temperature=All', 'FALSE', 'Yes']],\n",
       " [['Rainy', 'Humidity=All', 'Temperature=All', 'FALSE', 'Yes'],\n",
       "  ['Overcast', 'Humidity=All', 'Temperature=All', 'TRUE', 'Yes'],\n",
       "  ['Rainy', 'Humidity=All', 'Temperature=All', 'FALSE', 'Yes'],\n",
       "  ['Sunny', 'Humidity=All', 'Temperature=All', 'TRUE', 'Yes'],\n",
       "  ['Rainy', 'Humidity=All', 'Temperature=All', 'TRUE', 'No']])"
      ]
     },
     "execution_count": 215,
     "metadata": {},
     "output_type": "execute_result"
    }
   ],
   "source": [
    "train_data, test_data"
   ]
  },
  {
   "cell_type": "markdown",
   "metadata": {},
   "source": [
    "## Apriori"
   ]
  },
  {
   "cell_type": "code",
   "execution_count": 216,
   "metadata": {},
   "outputs": [],
   "source": [
    "import pandas as pd\n",
    "import numpy as np\n",
    "from mlxtend.preprocessing import TransactionEncoder\n",
    "from mlxtend.frequent_patterns import apriori\n",
    "from mlxtend.frequent_patterns import association_rules"
   ]
  },
  {
   "cell_type": "code",
   "execution_count": 217,
   "metadata": {},
   "outputs": [],
   "source": [
    "min_support = 0.01\n",
    "min_confidence = 0.1\n",
    "class_label = ['Yes', 'No']\n",
    "#class_index = range(0,len(class_label))"
   ]
  },
  {
   "cell_type": "code",
   "execution_count": 241,
   "metadata": {},
   "outputs": [],
   "source": [
    "te = TransactionEncoder()\n",
    "te_ary = te.fit(data).transform(data)\n",
    "df = pd.DataFrame(te_ary, columns=te.columns_) #위에서 나온걸 보기 좋게 데이터프레임으로 변경\n",
    "\n",
    "frequent_itemsets = apriori(df, min_support=min_support, use_colnames=True) # 여러 아이템이 frequent한 것\n",
    "\n",
    "itemset = [list(x) for x in frequent_itemsets['itemsets']]\n",
    "frequent_itemset = [] # 단일 아이템이 frequent한 것\n",
    "for item in itemset:\n",
    "    if len(item) is 1 and item[0] != class_label[0] and item[0] != class_label[1]:\n",
    "        frequent_itemset.append(item[0])\n",
    "\n",
    "all_ar = association_rules(frequent_itemsets, metric=\"confidence\", min_threshold=min_confidence) # 모든 rule들"
   ]
  },
  {
   "cell_type": "code",
   "execution_count": 245,
   "metadata": {},
   "outputs": [
    {
     "data": {
      "text/html": [
       "<div>\n",
       "<style scoped>\n",
       "    .dataframe tbody tr th:only-of-type {\n",
       "        vertical-align: middle;\n",
       "    }\n",
       "\n",
       "    .dataframe tbody tr th {\n",
       "        vertical-align: top;\n",
       "    }\n",
       "\n",
       "    .dataframe thead th {\n",
       "        text-align: right;\n",
       "    }\n",
       "</style>\n",
       "<table border=\"1\" class=\"dataframe\">\n",
       "  <thead>\n",
       "    <tr style=\"text-align: right;\">\n",
       "      <th></th>\n",
       "      <th>antecedents</th>\n",
       "      <th>consequents</th>\n",
       "      <th>antecedent support</th>\n",
       "      <th>consequent support</th>\n",
       "      <th>support</th>\n",
       "      <th>confidence</th>\n",
       "      <th>lift</th>\n",
       "      <th>leverage</th>\n",
       "      <th>conviction</th>\n",
       "    </tr>\n",
       "  </thead>\n",
       "  <tbody>\n",
       "    <tr>\n",
       "      <td>0</td>\n",
       "      <td>(Humidity=All)</td>\n",
       "      <td>(FALSE)</td>\n",
       "      <td>1.000000</td>\n",
       "      <td>0.571429</td>\n",
       "      <td>0.571429</td>\n",
       "      <td>0.571429</td>\n",
       "      <td>1.000000</td>\n",
       "      <td>0.000000</td>\n",
       "      <td>1.000000</td>\n",
       "    </tr>\n",
       "    <tr>\n",
       "      <td>1</td>\n",
       "      <td>(FALSE)</td>\n",
       "      <td>(Humidity=All)</td>\n",
       "      <td>0.571429</td>\n",
       "      <td>1.000000</td>\n",
       "      <td>0.571429</td>\n",
       "      <td>1.000000</td>\n",
       "      <td>1.000000</td>\n",
       "      <td>0.000000</td>\n",
       "      <td>inf</td>\n",
       "    </tr>\n",
       "    <tr>\n",
       "      <td>2</td>\n",
       "      <td>(FALSE)</td>\n",
       "      <td>(No)</td>\n",
       "      <td>0.571429</td>\n",
       "      <td>0.357143</td>\n",
       "      <td>0.142857</td>\n",
       "      <td>0.250000</td>\n",
       "      <td>0.700000</td>\n",
       "      <td>-0.061224</td>\n",
       "      <td>0.857143</td>\n",
       "    </tr>\n",
       "    <tr>\n",
       "      <td>3</td>\n",
       "      <td>(No)</td>\n",
       "      <td>(FALSE)</td>\n",
       "      <td>0.357143</td>\n",
       "      <td>0.571429</td>\n",
       "      <td>0.142857</td>\n",
       "      <td>0.400000</td>\n",
       "      <td>0.700000</td>\n",
       "      <td>-0.061224</td>\n",
       "      <td>0.714286</td>\n",
       "    </tr>\n",
       "    <tr>\n",
       "      <td>4</td>\n",
       "      <td>(Overcast)</td>\n",
       "      <td>(FALSE)</td>\n",
       "      <td>0.285714</td>\n",
       "      <td>0.571429</td>\n",
       "      <td>0.142857</td>\n",
       "      <td>0.500000</td>\n",
       "      <td>0.875000</td>\n",
       "      <td>-0.020408</td>\n",
       "      <td>0.857143</td>\n",
       "    </tr>\n",
       "    <tr>\n",
       "      <td>...</td>\n",
       "      <td>...</td>\n",
       "      <td>...</td>\n",
       "      <td>...</td>\n",
       "      <td>...</td>\n",
       "      <td>...</td>\n",
       "      <td>...</td>\n",
       "      <td>...</td>\n",
       "      <td>...</td>\n",
       "      <td>...</td>\n",
       "    </tr>\n",
       "    <tr>\n",
       "      <td>95</td>\n",
       "      <td>(FALSE)</td>\n",
       "      <td>(Humidity=All, Yes)</td>\n",
       "      <td>0.571429</td>\n",
       "      <td>0.642857</td>\n",
       "      <td>0.428571</td>\n",
       "      <td>0.750000</td>\n",
       "      <td>1.166667</td>\n",
       "      <td>0.061224</td>\n",
       "      <td>1.428571</td>\n",
       "    </tr>\n",
       "    <tr>\n",
       "      <td>96</td>\n",
       "      <td>(FALSE, Sunny)</td>\n",
       "      <td>(No)</td>\n",
       "      <td>0.214286</td>\n",
       "      <td>0.357143</td>\n",
       "      <td>0.142857</td>\n",
       "      <td>0.666667</td>\n",
       "      <td>1.866667</td>\n",
       "      <td>0.066327</td>\n",
       "      <td>1.928571</td>\n",
       "    </tr>\n",
       "    <tr>\n",
       "      <td>97</td>\n",
       "      <td>(FALSE, No)</td>\n",
       "      <td>(Sunny)</td>\n",
       "      <td>0.142857</td>\n",
       "      <td>0.357143</td>\n",
       "      <td>0.142857</td>\n",
       "      <td>1.000000</td>\n",
       "      <td>2.800000</td>\n",
       "      <td>0.091837</td>\n",
       "      <td>inf</td>\n",
       "    </tr>\n",
       "    <tr>\n",
       "      <td>98</td>\n",
       "      <td>(Sunny, No)</td>\n",
       "      <td>(FALSE)</td>\n",
       "      <td>0.214286</td>\n",
       "      <td>0.571429</td>\n",
       "      <td>0.142857</td>\n",
       "      <td>0.666667</td>\n",
       "      <td>1.166667</td>\n",
       "      <td>0.020408</td>\n",
       "      <td>1.285714</td>\n",
       "    </tr>\n",
       "    <tr>\n",
       "      <td>99</td>\n",
       "      <td>(FALSE)</td>\n",
       "      <td>(Sunny, No)</td>\n",
       "      <td>0.571429</td>\n",
       "      <td>0.214286</td>\n",
       "      <td>0.142857</td>\n",
       "      <td>0.250000</td>\n",
       "      <td>1.166667</td>\n",
       "      <td>0.020408</td>\n",
       "      <td>1.047619</td>\n",
       "    </tr>\n",
       "  </tbody>\n",
       "</table>\n",
       "<p>100 rows × 9 columns</p>\n",
       "</div>"
      ],
      "text/plain": [
       "       antecedents          consequents  antecedent support  \\\n",
       "0   (Humidity=All)              (FALSE)            1.000000   \n",
       "1          (FALSE)       (Humidity=All)            0.571429   \n",
       "2          (FALSE)                 (No)            0.571429   \n",
       "3             (No)              (FALSE)            0.357143   \n",
       "4       (Overcast)              (FALSE)            0.285714   \n",
       "..             ...                  ...                 ...   \n",
       "95         (FALSE)  (Humidity=All, Yes)            0.571429   \n",
       "96  (FALSE, Sunny)                 (No)            0.214286   \n",
       "97     (FALSE, No)              (Sunny)            0.142857   \n",
       "98     (Sunny, No)              (FALSE)            0.214286   \n",
       "99         (FALSE)          (Sunny, No)            0.571429   \n",
       "\n",
       "    consequent support   support  confidence      lift  leverage  conviction  \n",
       "0             0.571429  0.571429    0.571429  1.000000  0.000000    1.000000  \n",
       "1             1.000000  0.571429    1.000000  1.000000  0.000000         inf  \n",
       "2             0.357143  0.142857    0.250000  0.700000 -0.061224    0.857143  \n",
       "3             0.571429  0.142857    0.400000  0.700000 -0.061224    0.714286  \n",
       "4             0.571429  0.142857    0.500000  0.875000 -0.020408    0.857143  \n",
       "..                 ...       ...         ...       ...       ...         ...  \n",
       "95            0.642857  0.428571    0.750000  1.166667  0.061224    1.428571  \n",
       "96            0.357143  0.142857    0.666667  1.866667  0.066327    1.928571  \n",
       "97            0.357143  0.142857    1.000000  2.800000  0.091837         inf  \n",
       "98            0.571429  0.142857    0.666667  1.166667  0.020408    1.285714  \n",
       "99            0.214286  0.142857    0.250000  1.166667  0.020408    1.047619  \n",
       "\n",
       "[100 rows x 9 columns]"
      ]
     },
     "execution_count": 245,
     "metadata": {},
     "output_type": "execute_result"
    }
   ],
   "source": [
    "all_ar.head(100)"
   ]
  },
  {
   "cell_type": "code",
   "execution_count": 218,
   "metadata": {},
   "outputs": [],
   "source": [
    "# Car_set을 얻음\n",
    "def car_set(data, min_support, min_confidence, class_label):\n",
    "    te = TransactionEncoder()\n",
    "    te_ary = te.fit(data).transform(data)\n",
    "    df = pd.DataFrame(te_ary, columns=te.columns_) #위에서 나온걸 보기 좋게 데이터프레임으로 변경\n",
    "    \n",
    "    frequent_itemsets = apriori(df, min_support=min_support, use_colnames=True) # 여러 아이템이 frequent한 것\n",
    "\n",
    "    itemset = [list(x) for x in frequent_itemsets['itemsets']]\n",
    "    frequent_itemset = [] # 단일 아이템이 frequent한 것\n",
    "    for item in itemset:\n",
    "        if len(item) is 1 and item[0] != class_label[0] and item[0] != class_label[1]:\n",
    "            frequent_itemset.append(item[0])\n",
    "            \n",
    "    all_ar = association_rules(frequent_itemsets, metric=\"confidence\", min_threshold=min_confidence) # 모든 rule들\n",
    "    confidence = list(all_ar['confidence']) # confidence값 저장\n",
    "    all_ar = all_ar[all_ar['antecedent support'] > 0.01]\n",
    "    all_ar = all_ar[(all_ar['consequents'] == frozenset({'Yes'})) | (all_ar['consequents'] == frozenset({'No'}))] # rule에서 결과가 class인 것만 불러옴 \n",
    "    \n",
    "    ant = [list(x) for x in all_ar['antecedents']] # rule에서 원인\n",
    "    \n",
    "    # rule에서 원인이 frequent itemset의 부분집합일 때의 index 저장\n",
    "    index = []\n",
    "    count = 0\n",
    "    for i in ant:\n",
    "        state = True\n",
    "        for j in i:\n",
    "            if j not in frequent_itemset:\n",
    "                state = False\n",
    "        if state:\n",
    "            index.append(count)\n",
    "        count=count+1\n",
    "        \n",
    "    all_ar_list = all_ar.values.tolist() # df -> list\n",
    "    \n",
    "    # car-set을 찾음\n",
    "    car = []\n",
    "    car_ant = []\n",
    "    car_con = []\n",
    "    car_confidence = []\n",
    "    for i in index:\n",
    "        car_ant.append(list(all_ar_list[i][0]))\n",
    "        car_con.append(list(all_ar_list[i][1]))\n",
    "        car_confidence.append(confidence[i])\n",
    "    car.append(car_ant)\n",
    "    car.append(car_con)\n",
    "    \n",
    "    return frequent_itemset, car, car_confidence"
   ]
  },
  {
   "cell_type": "markdown",
   "metadata": {},
   "source": [
    "## Split"
   ]
  },
  {
   "cell_type": "code",
   "execution_count": 219,
   "metadata": {},
   "outputs": [],
   "source": [
    "# Car_set들을 split함\n",
    "def split_rule(car, car_confidence):\n",
    "    label = list(set([i[0] for i in car[1]])) # class label값들 불러옴.\n",
    "    \n",
    "    # 각 class에 대한 index를 얻음\n",
    "    split_index = [] \n",
    "    for j in label:\n",
    "        class_index = []\n",
    "        index = 0\n",
    "        for i in car[1]:\n",
    "            if i[0] == j:\n",
    "                class_index.append(index)\n",
    "            index+=1\n",
    "        split_index.append(class_index)\n",
    "    \n",
    "    # 해당하는 class로 분할\n",
    "    split_car = []\n",
    "    split_confidence = []\n",
    "    for i in split_index:\n",
    "        car_set_ex = []\n",
    "        confidence_ex = []\n",
    "        for j in i:\n",
    "            car_set_ex.append(car[0][j])\n",
    "            confidence_ex.append(car_confidence[j])\n",
    "        split_car.append(car_set_ex)\n",
    "        split_confidence.append(confidence_ex)\n",
    "    \n",
    "    # 각 클래스 명과 해당하는 class의 car들에 대응되게 dictionary 형태로 만듬\n",
    "    rule_class = {}\n",
    "    for i in range(len(label)):\n",
    "        rule_class[label[i]] = split_car[i]\n",
    "    \n",
    "    return rule_class, split_confidence, label"
   ]
  },
  {
   "cell_type": "markdown",
   "metadata": {},
   "source": [
    "## Associative classification based on Transferable Belief Model"
   ]
  },
  {
   "cell_type": "code",
   "execution_count": 239,
   "metadata": {},
   "outputs": [],
   "source": [
    "def normalize_confidence(split_confidence, label):\n",
    "    split_confidence_np = np.array(split_confidence)\n",
    "    normalize_confidence = []\n",
    "    for i in range(len(label)):\n",
    "        normalize = list((split_confidence_np[i]/np.sum(split_confidence_np[i])))\n",
    "        normalize_confidence.append(normalize)\n",
    "        print(np.sum(normalize))\n",
    "    return normalize_confidence"
   ]
  },
  {
   "cell_type": "code",
   "execution_count": 221,
   "metadata": {},
   "outputs": [],
   "source": [
    "frequent_itemset, car, car_confidence = car_set(train_data, min_support, min_confidence, class_label)"
   ]
  },
  {
   "cell_type": "code",
   "execution_count": 222,
   "metadata": {},
   "outputs": [],
   "source": [
    "rule_class, split_confidence, label = split_rule(car, car_confidence)"
   ]
  },
  {
   "cell_type": "code",
   "execution_count": 298,
   "metadata": {},
   "outputs": [
    {
     "data": {
      "text/plain": [
       "{'Yes': [['FALSE'],\n",
       "  ['Humidity=All'],\n",
       "  ['Overcast'],\n",
       "  ['Rainy'],\n",
       "  ['Sunny'],\n",
       "  ['TRUE'],\n",
       "  ['Temperature=All'],\n",
       "  ['Humidity=All', 'FALSE'],\n",
       "  ['Overcast', 'FALSE'],\n",
       "  ['FALSE', 'Rainy'],\n",
       "  ['FALSE', 'Sunny'],\n",
       "  ['FALSE', 'Temperature=All'],\n",
       "  ['Humidity=All', 'Overcast'],\n",
       "  ['Humidity=All', 'Rainy'],\n",
       "  ['Humidity=All', 'Sunny'],\n",
       "  ['Humidity=All', 'TRUE'],\n",
       "  ['Humidity=All', 'Temperature=All'],\n",
       "  ['Overcast', 'TRUE'],\n",
       "  ['Overcast', 'Temperature=All'],\n",
       "  ['Temperature=All', 'Rainy'],\n",
       "  ['Temperature=All', 'Sunny'],\n",
       "  ['Temperature=All', 'TRUE'],\n",
       "  ['Humidity=All', 'Overcast', 'FALSE'],\n",
       "  ['Humidity=All', 'FALSE', 'Rainy'],\n",
       "  ['Humidity=All', 'FALSE', 'Sunny'],\n",
       "  ['Humidity=All', 'FALSE', 'Temperature=All'],\n",
       "  ['Overcast', 'FALSE', 'Temperature=All'],\n",
       "  ['FALSE', 'Temperature=All', 'Rainy'],\n",
       "  ['FALSE', 'Temperature=All', 'Sunny'],\n",
       "  ['Humidity=All', 'Overcast', 'TRUE'],\n",
       "  ['Humidity=All', 'Overcast', 'Temperature=All'],\n",
       "  ['Humidity=All', 'Temperature=All', 'Rainy'],\n",
       "  ['Humidity=All', 'Temperature=All', 'Sunny'],\n",
       "  ['Humidity=All', 'Temperature=All', 'TRUE'],\n",
       "  ['Overcast', 'Temperature=All', 'TRUE'],\n",
       "  ['Humidity=All', 'Overcast', 'FALSE', 'Temperature=All'],\n",
       "  ['Humidity=All', 'FALSE', 'Temperature=All', 'Rainy'],\n",
       "  ['Humidity=All', 'FALSE', 'Temperature=All', 'Sunny'],\n",
       "  ['Humidity=All', 'Overcast', 'Temperature=All', 'TRUE']],\n",
       " 'No': [['FALSE'],\n",
       "  ['Humidity=All'],\n",
       "  ['Rainy'],\n",
       "  ['Sunny'],\n",
       "  ['TRUE'],\n",
       "  ['Temperature=All'],\n",
       "  ['Humidity=All', 'FALSE'],\n",
       "  ['FALSE', 'Sunny'],\n",
       "  ['FALSE', 'Temperature=All'],\n",
       "  ['Humidity=All', 'Rainy'],\n",
       "  ['Humidity=All', 'Sunny'],\n",
       "  ['Humidity=All', 'TRUE'],\n",
       "  ['Humidity=All', 'Temperature=All'],\n",
       "  ['TRUE', 'Rainy'],\n",
       "  ['Temperature=All', 'Rainy'],\n",
       "  ['Sunny', 'TRUE'],\n",
       "  ['Temperature=All', 'Sunny'],\n",
       "  ['Temperature=All', 'TRUE'],\n",
       "  ['Humidity=All', 'FALSE', 'Sunny'],\n",
       "  ['Humidity=All', 'FALSE', 'Temperature=All'],\n",
       "  ['FALSE', 'Temperature=All', 'Sunny'],\n",
       "  ['Humidity=All', 'TRUE', 'Rainy'],\n",
       "  ['Humidity=All', 'Temperature=All', 'Rainy'],\n",
       "  ['Humidity=All', 'Sunny', 'TRUE'],\n",
       "  ['Humidity=All', 'Temperature=All', 'Sunny'],\n",
       "  ['Humidity=All', 'Temperature=All', 'TRUE'],\n",
       "  ['Temperature=All', 'TRUE', 'Rainy'],\n",
       "  ['Temperature=All', 'Sunny', 'TRUE'],\n",
       "  ['Humidity=All', 'FALSE', 'Temperature=All', 'Sunny'],\n",
       "  ['Humidity=All', 'Temperature=All', 'TRUE', 'Rainy'],\n",
       "  ['Humidity=All', 'Sunny', 'Temperature=All', 'TRUE']]}"
      ]
     },
     "execution_count": 298,
     "metadata": {},
     "output_type": "execute_result"
    }
   ],
   "source": [
    "rule_class"
   ]
  },
  {
   "cell_type": "code",
   "execution_count": 240,
   "metadata": {},
   "outputs": [
    {
     "name": "stdout",
     "output_type": "stream",
     "text": [
      "0.9999999999999998\n",
      "1.0\n"
     ]
    }
   ],
   "source": [
    "normalize_confidence= normalize_confidence(split_confidence, label)"
   ]
  },
  {
   "cell_type": "code",
   "execution_count": 226,
   "metadata": {},
   "outputs": [],
   "source": [
    "BetP = []\n",
    "for i in range(len(rule_class)): # 각 class에 대해\n",
    "    # dictionary 형태로 BetP 생성(각 frequent itemset들에 대해서)\n",
    "    dic_BetP = {}\n",
    "    for p in frequent_itemset:\n",
    "        dic_BetP[p] = 0\n",
    "    \n",
    "    for j in range(len(rule_class[label[i]])): # 각 데이터에 대해\n",
    "        for k in range(len(rule_class[label[i]][j])): # 각 feature에 대해\n",
    "            dic_BetP[rule_class[label[i]][j][k]] = dic_BetP[rule_class[label[i]][j][k]] + (normalize_confidence[i][j]/len(rule_class[label[i]][j]))\n",
    "    BetP.append(dic_BetP)"
   ]
  },
  {
   "cell_type": "code",
   "execution_count": 297,
   "metadata": {},
   "outputs": [
    {
     "data": {
      "text/plain": [
       "[{'FALSE': 0.16862976050255202,\n",
       "  'Humidity=All': 0.19167648213584607,\n",
       "  'Overcast': 0.14063604240282682,\n",
       "  'Rainy': 0.07597173144876325,\n",
       "  'Sunny': 0.13506085590891242,\n",
       "  'TRUE': 0.10031409501374167,\n",
       "  'Temperature=All': 0.18771103258735763},\n",
       " {'FALSE': 0.1324881141045959,\n",
       "  'Humidity=All': 0.22810353935552044,\n",
       "  'Overcast': 0,\n",
       "  'Rainy': 0.14791336502905442,\n",
       "  'Sunny': 0.14104595879556261,\n",
       "  'TRUE': 0.14458531431590071,\n",
       "  'Temperature=All': 0.20586370839936616}]"
      ]
     },
     "execution_count": 297,
     "metadata": {},
     "output_type": "execute_result"
    }
   ],
   "source": [
    "BetP"
   ]
  },
  {
   "cell_type": "markdown",
   "metadata": {},
   "source": [
    "## Predict"
   ]
  },
  {
   "cell_type": "code",
   "execution_count": 262,
   "metadata": {},
   "outputs": [
    {
     "data": {
      "text/plain": [
       "(['FALSE',\n",
       "  'Humidity=All',\n",
       "  'Overcast',\n",
       "  'Rainy',\n",
       "  'Sunny',\n",
       "  'TRUE',\n",
       "  'Temperature=All'],\n",
       " [['Rainy', 'Humidity=All', 'Temperature=All', 'FALSE', 'Yes'],\n",
       "  ['Overcast', 'Humidity=All', 'Temperature=All', 'TRUE', 'Yes'],\n",
       "  ['Rainy', 'Humidity=All', 'Temperature=All', 'FALSE', 'Yes'],\n",
       "  ['Sunny', 'Humidity=All', 'Temperature=All', 'TRUE', 'Yes'],\n",
       "  ['Rainy', 'Humidity=All', 'Temperature=All', 'TRUE', 'No']],\n",
       " 'Rainy')"
      ]
     },
     "execution_count": 262,
     "metadata": {},
     "output_type": "execute_result"
    }
   ],
   "source": [
    "frequent_itemset, test_data, test_data[0][0]"
   ]
  },
  {
   "cell_type": "code",
   "execution_count": 275,
   "metadata": {},
   "outputs": [],
   "source": [
    "binary_test = np.zeros([len(test_data),len(frequent_itemset)])\n",
    "for i in range(len(test_data)):\n",
    "    for j in range(len(test_data[i])):\n",
    "        for frequent_item in frequent_itemset:\n",
    "            if test_data[i][j] == frequent_item:\n",
    "                binary_test[i][frequent_itemset.index(test_data[i][j])] +=1\n",
    "                continue"
   ]
  },
  {
   "cell_type": "code",
   "execution_count": 280,
   "metadata": {},
   "outputs": [],
   "source": [
    "BetP_list = []\n",
    "for i in BetP:\n",
    "    BetP_list.append(list(i.values()))\n",
    "BetP_array = np.transpose(np.array(BetP_list))"
   ]
  },
  {
   "cell_type": "code",
   "execution_count": 287,
   "metadata": {},
   "outputs": [
    {
     "data": {
      "text/plain": [
       "['No', 'Yes', 'No', 'No', 'No']"
      ]
     },
     "execution_count": 287,
     "metadata": {},
     "output_type": "execute_result"
    }
   ],
   "source": [
    "result = np.matmul(binary_test, BetP_array)\n",
    "predict = []\n",
    "for i in range(len(result)):\n",
    "    argmax = np.argmax(result[i])\n",
    "    predict.append(label[argmax])\n",
    "predict"
   ]
  },
  {
   "cell_type": "code",
   "execution_count": 288,
   "metadata": {},
   "outputs": [
    {
     "data": {
      "text/plain": [
       "array([[0.62398901, 0.71436873],\n",
       "       [0.62033765, 0.57855256],\n",
       "       [0.62398901, 0.71436873],\n",
       "       [0.61476247, 0.71959852],\n",
       "       [0.55567334, 0.72646593]])"
      ]
     },
     "execution_count": 288,
     "metadata": {},
     "output_type": "execute_result"
    }
   ],
   "source": [
    "'Yes', 'Yes', 'Yes', 'Yes', 'No'"
   ]
  }
 ],
 "metadata": {
  "kernelspec": {
   "display_name": "Python 3",
   "language": "python",
   "name": "python3"
  },
  "language_info": {
   "codemirror_mode": {
    "name": "ipython",
    "version": 3
   },
   "file_extension": ".py",
   "mimetype": "text/x-python",
   "name": "python",
   "nbconvert_exporter": "python",
   "pygments_lexer": "ipython3",
   "version": "3.6.9"
  }
 },
 "nbformat": 4,
 "nbformat_minor": 4
}
