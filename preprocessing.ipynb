{
 "cells": [
  {
   "cell_type": "markdown",
   "metadata": {},
   "source": [
    "### Data load"
   ]
  },
  {
   "cell_type": "code",
   "execution_count": 1,
   "metadata": {},
   "outputs": [],
   "source": [
    "base_dir = r'C:\\Users\\Yang\\Desktop\\project'"
   ]
  },
  {
   "cell_type": "code",
   "execution_count": 12,
   "metadata": {},
   "outputs": [],
   "source": [
    "# csv파일(최종 데이터) 불러옴\n",
    "import csv\n",
    "import re\n",
    "\n",
    "raw = []\n",
    "f = open(base_dir + r'\\data\\final_data.csv', 'r', encoding='utf-8')\n",
    "rdr = csv.reader(f)\n",
    "for line in rdr:\n",
    "    raw.append(line)\n",
    "f.close()  \n",
    "\n",
    "raw_text = []\n",
    "label = []\n",
    "\n",
    "# 핵심문장만 불러옴. label은 비관련 100이면 피해없다고 간주하고 나머진 피해라고 하였음.\n",
    "for i in range(2, len(raw)):\n",
    "    for j in range(30, 37):\n",
    "        if(raw[i][j] is not ''):\n",
    "            raw_text.append(raw[i][j])\n",
    "            if(int(raw[i][29]) < 100 ):\n",
    "                label.append('1')\n",
    "            else:\n",
    "                label.append('0')"
   ]
  },
  {
   "cell_type": "code",
   "execution_count": 7,
   "metadata": {},
   "outputs": [],
   "source": [
    "# csv파일(직접 분류한거) 불러옴\n",
    "import csv\n",
    "import re\n",
    "raw = []\n",
    "f = open(base_dir+'\\data\\damage1100.csv', 'r', encoding='utf-8')\n",
    "rdr = csv.reader(f)\n",
    "for line in rdr:\n",
    "    raw.append(line)\n",
    "f.close()\n",
    "\n",
    "raw_text.extend([i[0] for i in raw])\n",
    "label.extend([i[1] for i in raw])"
   ]
  },
  {
   "cell_type": "code",
   "execution_count": 85,
   "metadata": {},
   "outputs": [],
   "source": [
    "# txt파일(피해 비관련 데이터) 불러옴\n",
    "import re\n",
    "import os\n",
    "import random\n",
    "import numpy as np\n",
    "\n",
    "directory = r'C:\\Users\\0000\\Desktop\\join\\비관련'\n",
    "files = os.listdir(directory) # 모든 파일 name\n",
    "raw = [] # 모든 txt파일 내에 문장 다 가져옴\n",
    "\n",
    "for filename in files:\n",
    "    if \".txt\" not in filename:\n",
    "        continue\n",
    "    file = open(directory+filename, 'r', encoding='utf-8')\n",
    "    for line in file:\n",
    "        raw.append(line)\n",
    "    file.close()\n",
    "    \n",
    "raw_upper50 = [i for i in raw if len(i)>=50] # 50글자 이상\n",
    "split_raw_upper50 = [] # 여러 문장을 split하여 단일 문장으로 나타냄.\n",
    "\n",
    "for text in raw_upper50:\n",
    "    sentences = re.split(r'(?<!\\w\\.\\w.)(?<![A-Z][a-z]\\.)(?<=\\.|\\?)\\s', text)\n",
    "    for i in sentences:\n",
    "        p = re.split('[\\.]',i)\n",
    "        for j in p:\n",
    "            split_raw_upper50.append(j)\n",
    "\n",
    "count = 3000 # 랜덤하게 몇개 추출할건지\n",
    "random.seed(100)\n",
    "all_not_damage = [i for i in split_raw_upper50 if len(i)>=50] # 단일 문장들 중 50글자 이상만\n",
    "random_not_damage = [random.choice(all_not_damage) for i in range(count)] # count만큼 랜덤하게 뽑음\n",
    "zeros = np.zeros(count, dtype=int)\n",
    "list_zeros = zeros.tolist()\n",
    "label_not_damage = [str(i) for i in list_zeros] # 모두 0으로 라벨 설정\n",
    "raw_text.extend(random_not_damage)\n",
    "label.extend(label_not_damage)"
   ]
  },
  {
   "cell_type": "code",
   "execution_count": 68,
   "metadata": {},
   "outputs": [],
   "source": [
    "import csv\n",
    "\n",
    "csvfile = open(base_dir+'\\data\\data.csv', 'w', newline=\"\", encoding='utf_8_sig')\n",
    "csvwriter = csv.writer(csvfile)\n",
    "for i in range(len(raw_text)):\n",
    "    csvwriter.writerow([raw_text[i], label[i]])\n",
    "csvfile.close()"
   ]
  },
  {
   "cell_type": "code",
   "execution_count": 15,
   "metadata": {},
   "outputs": [],
   "source": [
    "# 빈 text 제거 & 특수문자 제거\n",
    "text = []\n",
    "for i in range(len(raw_text)):\n",
    "    if(raw_text[i] is not ' '):\n",
    "        newtext = re.sub('[-=+,#/\\?:^$@*\\\"~&%!<>()\"]', '', raw_text[i])\n",
    "        text.append(newtext)"
   ]
  },
  {
   "cell_type": "markdown",
   "metadata": {},
   "source": [
    "### 전체 7만개 문장 및 라벨 데이터"
   ]
  },
  {
   "cell_type": "code",
   "execution_count": 2,
   "metadata": {},
   "outputs": [],
   "source": [
    "# csv파일(최종 데이터) 불러옴\n",
    "import csv\n",
    "import re\n",
    "\n",
    "raw = []\n",
    "f = open(base_dir + r'\\data\\data_70000.csv', 'r', encoding='utf-8')\n",
    "rdr = csv.reader(f)\n",
    "for line in rdr:\n",
    "    raw.append(line)\n",
    "f.close()  \n",
    "\n",
    "raw_text = []\n",
    "label = []"
   ]
  },
  {
   "cell_type": "code",
   "execution_count": 3,
   "metadata": {},
   "outputs": [],
   "source": [
    "for i in raw:\n",
    "    raw_text.append(i[0])\n",
    "    label.append(i[1])"
   ]
  },
  {
   "cell_type": "code",
   "execution_count": 4,
   "metadata": {},
   "outputs": [],
   "source": [
    "# 빈 text 제거 & 특수문자 제거\n",
    "text = []\n",
    "for i in range(len(raw_text)):\n",
    "    if(raw_text[i] is not ' '):\n",
    "        newtext = re.sub('[-=+,#/\\?:^$@*\\\"~&%!<>()\"]', '', raw_text[i])\n",
    "        text.append(newtext)"
   ]
  },
  {
   "cell_type": "markdown",
   "metadata": {},
   "source": [
    "### 품사 태깅"
   ]
  },
  {
   "cell_type": "code",
   "execution_count": 5,
   "metadata": {},
   "outputs": [],
   "source": [
    "# 품사 태깅(주어진 텍스트를 형태소 단위로 나누고 나눠진 형태소를 해당하는 품사와 함께 리스트화)\n",
    "# stemming(단어들을 원형으로 포현), normalization(표현 방법이 다른 단어들을 통합시켜 같은 단어로 만듬)\n",
    "import json\n",
    "import os \n",
    "from konlpy.tag import Okt\n",
    "\n",
    "okt = Okt()\n",
    "\n",
    "def tokenize(doc): # 형태소 분석기인 Okt를 이용해서 품사를 태깅시킴\n",
    "    # norm은 정규화, stem은 근어로 표시하기를 나타냄\n",
    "    return ['/'.join(t) for t in okt.pos(doc, norm=True, stem=True)]\n",
    "\n",
    "os.chdir(base_dir) # 경로 설정"
   ]
  },
  {
   "cell_type": "code",
   "execution_count": 6,
   "metadata": {},
   "outputs": [],
   "source": [
    "if os.path.isfile(base_dir+r'\\word_model_70000\\text_docs.json'): # 경로에 text_docs.json 파일이 존재하면 json파일을 만들지 않고 load함\n",
    "    with open(base_dir+r'\\word_model_70000\\text_docs.json', encoding='utf-8') as f:\n",
    "        text_docs = json.load(f)\n",
    "else: # json파일이 없을 경우 text를 품사 태깅시킨 데이터로 변환시켜 json파일로 저장\n",
    "    text_docs = [(tokenize(row)) for row in text]\n",
    "    # JSON 파일로 저장\n",
    "    with open(base_dir+r'\\word_model_70000\\text_docs.json', 'w', encoding=\"utf-8\") as make_file:\n",
    "        json.dump(text_docs, make_file, ensure_ascii=False, indent=\"\\t\")"
   ]
  },
  {
   "cell_type": "code",
   "execution_count": 35,
   "metadata": {},
   "outputs": [
    {
     "name": "stdout",
     "output_type": "stream",
     "text": [
      "2141642\n"
     ]
    }
   ],
   "source": [
    "# 태깅된 각 형태소들을 하나의 list로 합침\n",
    "tokens = [t for d in text_docs for t in d]\n",
    "print(len(tokens))"
   ]
  },
  {
   "cell_type": "code",
   "execution_count": 36,
   "metadata": {},
   "outputs": [
    {
     "name": "stdout",
     "output_type": "stream",
     "text": [
      "2141642\n",
      "41158\n"
     ]
    }
   ],
   "source": [
    "import nltk\n",
    "from pprint import pprint\n",
    "\n",
    "nltk_text = nltk.Text(tokens, name='NMSC')\n",
    "\n",
    "# 전체 토큰의 개수\n",
    "total_tokens = nltk_text.tokens\n",
    "print(len(total_tokens))\n",
    "\n",
    "# 중복을 제외한 토큰의 개수\n",
    "set_total_tokens = list(set(nltk_text.tokens))\n",
    "print(len(set_total_tokens))            \n",
    "\n",
    "# 출현 빈도가 높은 상위 토큰 10개\n",
    "#pprint(nltk_text.vocab().most_common(50))"
   ]
  },
  {
   "cell_type": "code",
   "execution_count": 37,
   "metadata": {},
   "outputs": [
    {
     "data": {
      "text/plain": [
       "10578"
      ]
     },
     "execution_count": 37,
     "metadata": {},
     "output_type": "execute_result"
    }
   ],
   "source": [
    "# 빈도수가 10개 이상인 token 확인.\n",
    "most_common_tokens = nltk_text.vocab().most_common(len(set_total_tokens))\n",
    "for i in range(len(set_total_tokens)):\n",
    "    if(most_common_tokens[i][1]<10):\n",
    "        index = i\n",
    "        break\n",
    "most_common_tokens_10 = most_common_tokens[:index]\n",
    "len(most_common_tokens_10)"
   ]
  },
  {
   "cell_type": "markdown",
   "metadata": {},
   "source": [
    "## Embedding"
   ]
  },
  {
   "cell_type": "code",
   "execution_count": 8,
   "metadata": {},
   "outputs": [],
   "source": [
    "size = 300"
   ]
  },
  {
   "cell_type": "markdown",
   "metadata": {},
   "source": [
    "### Fasttext"
   ]
  },
  {
   "cell_type": "code",
   "execution_count": 11,
   "metadata": {},
   "outputs": [],
   "source": [
    "from gensim.models import FastText\n",
    "embedding_model = FastText(text_docs, size=size, window = 2, min_count=10, workers=4, iter=100, sg=1)"
   ]
  },
  {
   "cell_type": "code",
   "execution_count": 12,
   "metadata": {},
   "outputs": [],
   "source": [
    "embedding_model.save(base_dir+'\\word_model_70000\\Fasttext_'+str(size)+'dim.model')"
   ]
  },
  {
   "cell_type": "markdown",
   "metadata": {},
   "source": [
    "### Word2vec"
   ]
  },
  {
   "cell_type": "code",
   "execution_count": 9,
   "metadata": {},
   "outputs": [
    {
     "name": "stderr",
     "output_type": "stream",
     "text": [
      "C:\\Users\\Yang\\Anaconda3\\envs\\tensorflow\\lib\\site-packages\\gensim\\utils.py:1197: UserWarning: detected Windows; aliasing chunkize to chunkize_serial\n",
      "  warnings.warn(\"detected Windows; aliasing chunkize to chunkize_serial\")\n"
     ]
    }
   ],
   "source": [
    "# Word embedding(Word2vec 사용)\n",
    "from gensim.models import Word2Vec\n",
    "embedding_model = Word2Vec(text_docs, size=size, window = 2, min_count=10, workers=4, iter=100, sg=1)"
   ]
  },
  {
   "cell_type": "code",
   "execution_count": 10,
   "metadata": {},
   "outputs": [
    {
     "name": "stderr",
     "output_type": "stream",
     "text": [
      "C:\\Users\\Yang\\Anaconda3\\envs\\tensorflow\\lib\\site-packages\\smart_open\\smart_open_lib.py:398: UserWarning: This function is deprecated, use smart_open.open instead. See the migration notes for details: https://github.com/RaRe-Technologies/smart_open/blob/master/README.rst#migrating-to-the-new-open-function\n",
      "  'See the migration notes for details: %s' % _MIGRATION_NOTES_URL\n"
     ]
    }
   ],
   "source": [
    "embedding_model.save(base_dir+r'\\word_model_70000\\Word2vec_'+str(size)+'dim.model')"
   ]
  },
  {
   "cell_type": "markdown",
   "metadata": {},
   "source": [
    "### Doc2vec"
   ]
  },
  {
   "cell_type": "code",
   "execution_count": 13,
   "metadata": {},
   "outputs": [
    {
     "name": "stderr",
     "output_type": "stream",
     "text": [
      "C:\\Users\\Yang\\Anaconda3\\envs\\tensorflow\\lib\\site-packages\\gensim\\models\\doc2vec.py:366: UserWarning: The parameter `size` is deprecated, will be removed in 4.0.0, use `vector_size` instead.\n",
      "  warnings.warn(\"The parameter `size` is deprecated, will be removed in 4.0.0, use `vector_size` instead.\")\n",
      "C:\\Users\\Yang\\Anaconda3\\envs\\tensorflow\\lib\\site-packages\\ipykernel_launcher.py:20: DeprecationWarning: Call to deprecated `iter` (Attribute will be removed in 4.0.0, use self.epochs instead).\n"
     ]
    }
   ],
   "source": [
    "import gensim\n",
    "import gensim.models.keyedvectors as word2vec\n",
    "from gensim.models.doc2vec import Doc2Vec, TaggedDocument\n",
    "from nltk.tokenize import word_tokenize\n",
    "\n",
    "max_epochs = 100\n",
    "vec_size = size\n",
    "alpha = 0.025\n",
    "tagged_title = [TaggedDocument(words=_d, tags=[str(i)]) for i, _d in enumerate(text_docs)]\n",
    "model = Doc2Vec(size=vec_size,\n",
    "                alpha=alpha, \n",
    "                min_alpha=0.00025,\n",
    "                min_count=10,\n",
    "                dm =1)\n",
    "model.build_vocab(tagged_title)\n",
    "\n",
    "for epoch in range(max_epochs):\n",
    "    model.train(tagged_title,\n",
    "                total_examples=model.corpus_count,\n",
    "                epochs=model.iter)\n",
    "    # decrease the learning rate\n",
    "    model.alpha -= 0.0002\n",
    "    # fix the learning rate, no decay\n",
    "    model.min_alpha = model.alpha"
   ]
  },
  {
   "cell_type": "code",
   "execution_count": 14,
   "metadata": {},
   "outputs": [
    {
     "name": "stderr",
     "output_type": "stream",
     "text": [
      "C:\\Users\\Yang\\Anaconda3\\envs\\tensorflow\\lib\\site-packages\\smart_open\\smart_open_lib.py:398: UserWarning: This function is deprecated, use smart_open.open instead. See the migration notes for details: https://github.com/RaRe-Technologies/smart_open/blob/master/README.rst#migrating-to-the-new-open-function\n",
      "  'See the migration notes for details: %s' % _MIGRATION_NOTES_URL\n"
     ]
    }
   ],
   "source": [
    "model.save(base_dir+r'\\word_model_70000\\Doc2vec_'+str(size)+'dim.model')"
   ]
  },
  {
   "cell_type": "markdown",
   "metadata": {},
   "source": [
    "## 기사를 문장별로 토큰화"
   ]
  },
  {
   "cell_type": "code",
   "execution_count": 130,
   "metadata": {},
   "outputs": [],
   "source": [
    "from konlpy.tag import Kkma\n",
    "kkma = Kkma()"
   ]
  },
  {
   "cell_type": "code",
   "execution_count": 1,
   "metadata": {},
   "outputs": [
    {
     "ename": "NameError",
     "evalue": "name 'text' is not defined",
     "output_type": "error",
     "traceback": [
      "\u001b[1;31m---------------------------------------------------------------------------\u001b[0m",
      "\u001b[1;31mNameError\u001b[0m                                 Traceback (most recent call last)",
      "\u001b[1;32m<ipython-input-1-f2106a559dea>\u001b[0m in \u001b[0;36m<module>\u001b[1;34m\u001b[0m\n\u001b[0;32m      1\u001b[0m \u001b[0msentence_tokens\u001b[0m \u001b[1;33m=\u001b[0m \u001b[1;33m[\u001b[0m\u001b[1;33m]\u001b[0m \u001b[1;31m# 기사를 문장별로 토큰화한 결과값을 list에 저장\u001b[0m\u001b[1;33m\u001b[0m\u001b[1;33m\u001b[0m\u001b[0m\n\u001b[1;32m----> 2\u001b[1;33m \u001b[0marticles\u001b[0m \u001b[1;33m=\u001b[0m \u001b[0mlist\u001b[0m\u001b[1;33m(\u001b[0m\u001b[0mset\u001b[0m\u001b[1;33m(\u001b[0m\u001b[0mtext\u001b[0m\u001b[1;33m)\u001b[0m\u001b[1;33m)\u001b[0m \u001b[1;31m# 중복되는 기사 제거\u001b[0m\u001b[1;33m\u001b[0m\u001b[1;33m\u001b[0m\u001b[0m\n\u001b[0m\u001b[0;32m      3\u001b[0m \u001b[1;32mfor\u001b[0m \u001b[0marticle\u001b[0m \u001b[1;32min\u001b[0m \u001b[0marticles\u001b[0m\u001b[1;33m:\u001b[0m\u001b[1;33m\u001b[0m\u001b[1;33m\u001b[0m\u001b[0m\n\u001b[0;32m      4\u001b[0m     \u001b[0msentence_tokens\u001b[0m\u001b[1;33m.\u001b[0m\u001b[0mappend\u001b[0m\u001b[1;33m(\u001b[0m\u001b[0mkkma\u001b[0m\u001b[1;33m.\u001b[0m\u001b[0msentences\u001b[0m\u001b[1;33m(\u001b[0m\u001b[0marticle\u001b[0m\u001b[1;33m)\u001b[0m\u001b[1;33m)\u001b[0m\u001b[1;33m\u001b[0m\u001b[1;33m\u001b[0m\u001b[0m\n",
      "\u001b[1;31mNameError\u001b[0m: name 'text' is not defined"
     ]
    }
   ],
   "source": [
    "_tokens = [] # 기사를 문sentence장별로 토큰화한 결과값을 list에 저장\n",
    "articles = list(set(text)) # 중복되는 기사 제거\n",
    "for article in articles:\n",
    "    sentence_tokens.append(kkma.sentences(article))    "
   ]
  },
  {
   "cell_type": "markdown",
   "metadata": {},
   "source": [
    "## '피해'라는 단어와 top7 단어가 함께 들어있는 문장 추출"
   ]
  },
  {
   "cell_type": "code",
   "execution_count": 133,
   "metadata": {},
   "outputs": [],
   "source": [
    "sentences_damage = []\n",
    "for sentences in sentence_tokens:\n",
    "    for sentence in sentences:\n",
    "        isExist = False        \n",
    "        for word_damage in words_damage:\n",
    "            if isExist == False:\n",
    "                if (word_damage in sentence) and ('피해' in sentence):\n",
    "                    sentences_damage.append(sentence)\n",
    "                    isExist = True"
   ]
  },
  {
   "cell_type": "code",
   "execution_count": 139,
   "metadata": {},
   "outputs": [
    {
     "data": {
      "text/plain": [
       "['또 일부 저지대 주택과 농경지가 침수되고 행인이 고립되는 등 10 여 건의 피해가 났습니다.',\n",
       " '온 열 질환자와 사망자가 급증하고 전력 소비량이 최대치를 경신하며 농작물과 가축 제조업 등에서 막대한 피해가 발생한다는 겁니다.',\n",
       " '다행히 사고 당시 다리를 지나던 차량이 많지 않아 피해는 발생하지 않았습니다.',\n",
       " '직원들이 재빨리 대피해 다친 사람은 없었지만 부화장 한 개 동이 모두 타 8천만 원의 재산피해가 났습니다.',\n",
       " '대전 통영 고속도로 하행선 경남 산청 IC 인근에서 그레이스 승합차에 불이 나 전소됐지만 인명 피해는 없었습니다.',\n",
       " '■ 고물 상 화재 …2 천만 원 피해 경남 김 해의 한 고물상에서도 불이 나 고물상 내 조립식 건물과 야적장 일부를 태워 소방서 추산 2천만 원 상당의 재산피해를 내고 20여 분 만에 꺼졌습니다.',\n",
       " '화재 당시 현장에 사람이 없어 인명피해는 없었습니다.',\n",
       " '[ 전 경 윤 침수 피해 횟집 주인 더위를 식히나 했지 저녁에는 그랬는데 난데없이 너무 많이 쏟아지니까 피해가 이만저만이 아니죠.]',\n",
       " '주택과 상가 침수 등 접수된 비 피해 신고는 강릉 지역에서만 80건이 넘습니다.',\n",
       " '이와 함께 불볕 더위로 전력 사용량이 크게 늘면서 축사 화재와 정전사고가 우려되므로 미리 점검해야 피해를 막을 수 있습니다.']"
      ]
     },
     "execution_count": 139,
     "metadata": {},
     "output_type": "execute_result"
    }
   ],
   "source": [
    "sentences_damage[10:20]"
   ]
  },
  {
   "cell_type": "code",
   "execution_count": 137,
   "metadata": {},
   "outputs": [
    {
     "data": {
      "text/plain": [
       "369"
      ]
     },
     "execution_count": 137,
     "metadata": {},
     "output_type": "execute_result"
    }
   ],
   "source": [
    "len(sentences_damage)"
   ]
  },
  {
   "cell_type": "code",
   "execution_count": 140,
   "metadata": {},
   "outputs": [],
   "source": [
    "f = open(base_dir+r'\\data\\sentences_damage.csv', 'w', encoding='utf-8', newline='')\n",
    "wr = csv.writer(f)\n",
    "for i in sentences_damage:\n",
    "    wr.writerow([i])\n",
    "f.close()"
   ]
  }
 ],
 "metadata": {
  "kernelspec": {
   "display_name": "Python 3",
   "language": "python",
   "name": "python3"
  },
  "language_info": {
   "codemirror_mode": {
    "name": "ipython",
    "version": 3
   },
   "file_extension": ".py",
   "mimetype": "text/x-python",
   "name": "python",
   "nbconvert_exporter": "python",
   "pygments_lexer": "ipython3",
   "version": "3.6.9"
  }
 },
 "nbformat": 4,
 "nbformat_minor": 4
}
