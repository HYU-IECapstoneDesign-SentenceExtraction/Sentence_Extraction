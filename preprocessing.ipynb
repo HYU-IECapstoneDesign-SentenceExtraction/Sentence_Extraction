{
 "cells": [
  {
   "cell_type": "markdown",
   "metadata": {},
   "source": [
    "### 품사 태깅"
   ]
  },
  {
   "cell_type": "code",
   "execution_count": 2,
   "metadata": {},
   "outputs": [],
   "source": [
    "# csv파일 불러옴\n",
    "import csv\n",
    "import re\n",
    "\n",
    "raw = []\n",
    "f = open(r'C:\\Users\\0000\\Desktop\\sentenceExtraction_with_Article\\ytn_article.csv', 'r', encoding='utf-8')\n",
    "rdr = csv.reader(f)\n",
    "for line in rdr:\n",
    "    raw.append(line)\n",
    "f.close()  \n",
    "\n",
    "# 빈 text 제거 & 특수문자 제거\n",
    "text = []\n",
    "for i in range(len(raw)):\n",
    "    if(raw[i][0] is not ' '):\n",
    "        newtext = re.sub('[-=+,#/\\?:^$@*\\\"~&%!<>()\"]', '', raw[i][0])\n",
    "        text.append(newtext)"
   ]
  },
  {
   "cell_type": "code",
   "execution_count": 4,
   "metadata": {},
   "outputs": [
    {
     "name": "stderr",
     "output_type": "stream",
     "text": [
      "C:\\Users\\0000\\Anaconda3\\lib\\site-packages\\jpype\\_core.py:210: UserWarning: \n",
      "-------------------------------------------------------------------------------\n",
      "Deprecated: convertStrings was not specified when starting the JVM. The default\n",
      "behavior in JPype will be False starting in JPype 0.8. The recommended setting\n",
      "for new code is convertStrings=False.  The legacy value of True was assumed for\n",
      "this session. If you are a user of an application that reported this warning,\n",
      "please file a ticket with the developer.\n",
      "-------------------------------------------------------------------------------\n",
      "\n",
      "  \"\"\")\n"
     ]
    }
   ],
   "source": [
    "# 품사 태깅(주어진 텍스트를 형태소 단위로 나누고 나눠진 형태소를 해당하는 품사와 함께 리스트화)\n",
    "# stemming(단어들을 원형으로 포현), normalization(표현 방법이 다른 단어들을 통합시켜 같은 단어로 만듬)\n",
    "import json\n",
    "import os \n",
    "from konlpy.tag import Okt\n",
    "\n",
    "okt = Okt()\n",
    "\n",
    "def tokenize(doc): # 형태소 분석기인 Okt를 이용해서 품사를 태깅시킴\n",
    "    # norm은 정규화, stem은 근어로 표시하기를 나타냄\n",
    "    return ['/'.join(t) for t in okt.pos(doc, norm=True, stem=True)]\n",
    "\n",
    "os.chdir(r'C:\\Users\\0000\\Desktop\\sentenceExtraction_with_Article') # 경로 설정"
   ]
  },
  {
   "cell_type": "code",
   "execution_count": 5,
   "metadata": {},
   "outputs": [],
   "source": [
    "if os.path.isfile('text_docs.json'): # 경로에 text_docs.json 파일이 존재하면 json파일을 만들지 않고 load함\n",
    "    with open('text_docs.json', encoding='utf-8') as f:\n",
    "        text_docs = json.load(f)\n",
    "else: # json파일이 없을 경우 text를 품사 태깅시킨 데이터로 변환시켜 json파일로 저장\n",
    "    text_docs = [(tokenize(row)) for row in text]\n",
    "    # JSON 파일로 저장\n",
    "    with open('text_docs.json', 'w', encoding=\"utf-8\") as make_file:\n",
    "        json.dump(text_docs, make_file, ensure_ascii=False, indent=\"\\t\")"
   ]
  },
  {
   "cell_type": "code",
   "execution_count": 6,
   "metadata": {},
   "outputs": [
    {
     "name": "stdout",
     "output_type": "stream",
     "text": [
      "1707035\n"
     ]
    }
   ],
   "source": [
    "# 태깅된 각 형태소들을 하나의 list로 합침\n",
    "tokens = [t for d in text_docs for t in d]\n",
    "print(len(tokens))"
   ]
  },
  {
   "cell_type": "code",
   "execution_count": 7,
   "metadata": {},
   "outputs": [
    {
     "name": "stdout",
     "output_type": "stream",
     "text": [
      "1707035\n",
      "24065\n"
     ]
    }
   ],
   "source": [
    "import nltk\n",
    "from pprint import pprint\n",
    "\n",
    "nltk_text = nltk.Text(tokens, name='NMSC')\n",
    "\n",
    "# 전체 토큰의 개수\n",
    "total_tokens = nltk_text.tokens\n",
    "print(len(total_tokens))\n",
    "\n",
    "# 중복을 제외한 토큰의 개수\n",
    "set_total_tokens = list(set(nltk_text.tokens))\n",
    "print(len(set_total_tokens))            \n",
    "\n",
    "# 출현 빈도가 높은 상위 토큰 10개\n",
    "#pprint(nltk_text.vocab().most_common(50))"
   ]
  },
  {
   "cell_type": "markdown",
   "metadata": {},
   "source": [
    "### Word2vec"
   ]
  },
  {
   "cell_type": "code",
   "execution_count": 8,
   "metadata": {},
   "outputs": [],
   "source": [
    "# 빈도수가 50개 이상인 token 확인.\n",
    "most_common_tokens = nltk_text.vocab().most_common(len(set_total_tokens))\n",
    "for i in range(len(set_total_tokens)):\n",
    "    if(most_common_tokens[i][1]<50):\n",
    "        index = i\n",
    "        break\n",
    "most_common_tokens_50 = most_common_tokens[:index]"
   ]
  },
  {
   "cell_type": "code",
   "execution_count": 9,
   "metadata": {},
   "outputs": [
    {
     "name": "stderr",
     "output_type": "stream",
     "text": [
      "C:\\Users\\0000\\Anaconda3\\lib\\site-packages\\gensim\\utils.py:1197: UserWarning: detected Windows; aliasing chunkize to chunkize_serial\n",
      "  warnings.warn(\"detected Windows; aliasing chunkize to chunkize_serial\")\n"
     ]
    }
   ],
   "source": [
    "# Word embedding(Word2vec 사용)\n",
    "from gensim.models import Word2Vec\n",
    "embedding_model = Word2Vec(text_docs, size=100, window = 2, min_count=50, workers=4, iter=100, sg=1)"
   ]
  },
  {
   "cell_type": "code",
   "execution_count": 10,
   "metadata": {},
   "outputs": [
    {
     "name": "stdout",
     "output_type": "stream",
     "text": [
      "피해/Noun\n",
      "피해자/Noun\n",
      "피해망상/Noun\n"
     ]
    }
   ],
   "source": [
    "for s in set_total_tokens:\n",
    "    if(\"피해\" in s):\n",
    "        print(s)"
   ]
  },
  {
   "cell_type": "code",
   "execution_count": 128,
   "metadata": {},
   "outputs": [
    {
     "name": "stdout",
     "output_type": "stream",
     "text": [
      "['인명/Noun', '침수/Noun', '재산/Noun', '화재/Noun', '사고/Noun', '농작물/Noun', '사망자/Noun', '폐/Noun', '규모/Noun', '대처/Noun']\n"
     ]
    },
    {
     "name": "stderr",
     "output_type": "stream",
     "text": [
      "C:\\Users\\0000\\Anaconda3\\lib\\site-packages\\ipykernel_launcher.py:2: DeprecationWarning: Call to deprecated `most_similar` (Method will be removed in 4.0.0, use self.wv.most_similar() instead).\n",
      "  \n"
     ]
    }
   ],
   "source": [
    "# 두 벡터 사이의 코사인 유사도를 구함. 값이 클수록 비슷한 단어\n",
    "word_similar = embedding_model.most_similar(positive=[\"피해/Noun\"], topn=10)\n",
    "#print(embedding_model.most_similar(positive=[\"피해/Noun\"], topn=100))\n",
    "print([i[0] for i in word_similar])"
   ]
  },
  {
   "cell_type": "code",
   "execution_count": 129,
   "metadata": {},
   "outputs": [],
   "source": [
    "words_damage = ['인명', '침수', '재산', '화재', '사고', '농작물', '사망자']"
   ]
  },
  {
   "cell_type": "markdown",
   "metadata": {},
   "source": [
    "## 기사를 문장별로 토큰화"
   ]
  },
  {
   "cell_type": "code",
   "execution_count": 130,
   "metadata": {},
   "outputs": [],
   "source": [
    "from konlpy.tag import Kkma\n",
    "kkma = Kkma()"
   ]
  },
  {
   "cell_type": "code",
   "execution_count": 132,
   "metadata": {},
   "outputs": [],
   "source": [
    "sentence_tokens = [] # 기사를 문장별로 토큰화한 결과값을 list에 저장\n",
    "articles = list(set(text)) # 중복되는 기사 제거\n",
    "for article in articles:\n",
    "    sentence_tokens.append(kkma.sentences(article))    "
   ]
  },
  {
   "cell_type": "markdown",
   "metadata": {},
   "source": [
    "## '피해'라는 단어와 top7 단어가 함께 들어있는 문장 추출"
   ]
  },
  {
   "cell_type": "code",
   "execution_count": 133,
   "metadata": {},
   "outputs": [],
   "source": [
    "sentences_damage = []\n",
    "for sentences in sentence_tokens:\n",
    "    for sentence in sentences:\n",
    "        isExist = False        \n",
    "        for word_damage in words_damage:\n",
    "            if isExist == False:\n",
    "                if (word_damage in sentence) and ('피해' in sentence):\n",
    "                    sentences_damage.append(sentence)\n",
    "                    isExist = True"
   ]
  },
  {
   "cell_type": "code",
   "execution_count": 139,
   "metadata": {},
   "outputs": [
    {
     "data": {
      "text/plain": [
       "['또 일부 저지대 주택과 농경지가 침수되고 행인이 고립되는 등 10 여 건의 피해가 났습니다.',\n",
       " '온 열 질환자와 사망자가 급증하고 전력 소비량이 최대치를 경신하며 농작물과 가축 제조업 등에서 막대한 피해가 발생한다는 겁니다.',\n",
       " '다행히 사고 당시 다리를 지나던 차량이 많지 않아 피해는 발생하지 않았습니다.',\n",
       " '직원들이 재빨리 대피해 다친 사람은 없었지만 부화장 한 개 동이 모두 타 8천만 원의 재산피해가 났습니다.',\n",
       " '대전 통영 고속도로 하행선 경남 산청 IC 인근에서 그레이스 승합차에 불이 나 전소됐지만 인명 피해는 없었습니다.',\n",
       " '■ 고물 상 화재 …2 천만 원 피해 경남 김 해의 한 고물상에서도 불이 나 고물상 내 조립식 건물과 야적장 일부를 태워 소방서 추산 2천만 원 상당의 재산피해를 내고 20여 분 만에 꺼졌습니다.',\n",
       " '화재 당시 현장에 사람이 없어 인명피해는 없었습니다.',\n",
       " '[ 전 경 윤 침수 피해 횟집 주인 더위를 식히나 했지 저녁에는 그랬는데 난데없이 너무 많이 쏟아지니까 피해가 이만저만이 아니죠.]',\n",
       " '주택과 상가 침수 등 접수된 비 피해 신고는 강릉 지역에서만 80건이 넘습니다.',\n",
       " '이와 함께 불볕 더위로 전력 사용량이 크게 늘면서 축사 화재와 정전사고가 우려되므로 미리 점검해야 피해를 막을 수 있습니다.']"
      ]
     },
     "execution_count": 139,
     "metadata": {},
     "output_type": "execute_result"
    }
   ],
   "source": [
    "sentences_damage[10:20]"
   ]
  },
  {
   "cell_type": "code",
   "execution_count": 137,
   "metadata": {},
   "outputs": [
    {
     "data": {
      "text/plain": [
       "369"
      ]
     },
     "execution_count": 137,
     "metadata": {},
     "output_type": "execute_result"
    }
   ],
   "source": [
    "len(sentences_damage)"
   ]
  },
  {
   "cell_type": "code",
   "execution_count": 140,
   "metadata": {},
   "outputs": [],
   "source": [
    "f = open(r'C:\\Users\\0000\\Desktop\\sentenceExtraction_with_Article\\sentences_damage.csv', 'w', encoding='utf-8', newline='')\n",
    "wr = csv.writer(f)\n",
    "for i in sentences_damage:\n",
    "    wr.writerow([i])\n",
    "f.close()"
   ]
  }
 ],
 "metadata": {
  "kernelspec": {
   "display_name": "Python 3",
   "language": "python",
   "name": "python3"
  },
  "language_info": {
   "codemirror_mode": {
    "name": "ipython",
    "version": 3
   },
   "file_extension": ".py",
   "mimetype": "text/x-python",
   "name": "python",
   "nbconvert_exporter": "python",
   "pygments_lexer": "ipython3",
   "version": "3.7.3"
  }
 },
 "nbformat": 4,
 "nbformat_minor": 4
}
