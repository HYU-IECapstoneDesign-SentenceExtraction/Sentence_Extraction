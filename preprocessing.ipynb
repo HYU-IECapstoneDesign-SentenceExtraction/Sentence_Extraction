{
 "cells": [
  {
   "cell_type": "markdown",
   "metadata": {},
   "source": [
    "### 품사 태깅"
   ]
  },
  {
   "cell_type": "code",
<<<<<<< HEAD
   "execution_count": 2,
=======
   "execution_count": 18,
>>>>>>> d8dca1e955655864bc8147aca75edf3a564e5ebe
   "metadata": {},
   "outputs": [],
   "source": [
    "# csv파일 불러옴\n",
    "import csv\n",
    "import re\n",
    "\n",
    "raw = []\n",
<<<<<<< HEAD
    "f = open(r'C:\\Users\\0000\\Desktop\\sentenceExtraction_with_Article\\ytn_article.csv', 'r', encoding='utf-8')\n",
=======
    "f = open(r'C:\\Users\\thehb\\OneDrive\\Desktop\\sentenceExtraction_with_Article\\ytn_article.csv', 'r', encoding='utf-8')\n",
>>>>>>> d8dca1e955655864bc8147aca75edf3a564e5ebe
    "rdr = csv.reader(f)\n",
    "for line in rdr:\n",
    "    raw.append(line)\n",
    "f.close()  \n",
    "\n",
    "# 빈 text 제거 & 특수문자 제거\n",
    "text = []\n",
    "for i in range(len(raw)):\n",
    "    if(raw[i][0] is not ' '):\n",
    "        newtext = re.sub('[-=+,#/\\?:^$@*\\\"~&%!<>()\"]', '', raw[i][0])\n",
    "        text.append(newtext)"
   ]
  },
  {
   "cell_type": "code",
<<<<<<< HEAD
   "execution_count": 4,
=======
   "execution_count": 19,
>>>>>>> d8dca1e955655864bc8147aca75edf3a564e5ebe
   "metadata": {},
   "outputs": [
    {
     "name": "stderr",
     "output_type": "stream",
     "text": [
      "C:\\Users\\0000\\Anaconda3\\lib\\site-packages\\jpype\\_core.py:210: UserWarning: \n",
      "-------------------------------------------------------------------------------\n",
      "Deprecated: convertStrings was not specified when starting the JVM. The default\n",
      "behavior in JPype will be False starting in JPype 0.8. The recommended setting\n",
      "for new code is convertStrings=False.  The legacy value of True was assumed for\n",
      "this session. If you are a user of an application that reported this warning,\n",
      "please file a ticket with the developer.\n",
      "-------------------------------------------------------------------------------\n",
      "\n",
      "  \"\"\")\n"
     ]
    }
   ],
   "source": [
    "# 품사 태깅(주어진 텍스트를 형태소 단위로 나누고 나눠진 형태소를 해당하는 품사와 함께 리스트화)\n",
    "# stemming(단어들을 원형으로 포현), normalization(표현 방법이 다른 단어들을 통합시켜 같은 단어로 만듬)\n",
    "import json\n",
    "import os \n",
    "from konlpy.tag import Okt\n",
    "\n",
    "okt = Okt()\n",
    "\n",
    "def tokenize(doc): # 형태소 분석기인 Okt를 이용해서 품사를 태깅시킴\n",
    "    # norm은 정규화, stem은 근어로 표시하기를 나타냄\n",
    "    return ['/'.join(t) for t in okt.pos(doc, norm=True, stem=True)]\n",
    "\n",
<<<<<<< HEAD
    "os.chdir(r'C:\\Users\\0000\\Desktop\\sentenceExtraction_with_Article') # 경로 설정"
=======
    "os.chdir(r'C:\\Users\\thehb\\OneDrive\\Desktop\\sentenceExtraction_with_Article') # 경로 설정"
>>>>>>> d8dca1e955655864bc8147aca75edf3a564e5ebe
   ]
  },
  {
   "cell_type": "code",
<<<<<<< HEAD
   "execution_count": 5,
=======
   "execution_count": 20,
>>>>>>> d8dca1e955655864bc8147aca75edf3a564e5ebe
   "metadata": {},
   "outputs": [],
   "source": [
    "if os.path.isfile('text_docs.json'): # 경로에 text_docs.json 파일이 존재하면 json파일을 만들지 않고 load함\n",
    "    with open('text_docs.json', encoding='utf-8') as f:\n",
    "        text_docs = json.load(f)\n",
    "else: # json파일이 없을 경우 text를 품사 태깅시킨 데이터로 변환시켜 json파일로 저장\n",
    "    text_docs = [(tokenize(row)) for row in text]\n",
    "    # JSON 파일로 저장\n",
    "    with open('text_docs.json', 'w', encoding=\"utf-8\") as make_file:\n",
    "        json.dump(text_docs, make_file, ensure_ascii=False, indent=\"\\t\")"
   ]
  },
  {
   "cell_type": "code",
<<<<<<< HEAD
   "execution_count": 6,
=======
   "execution_count": 21,
>>>>>>> d8dca1e955655864bc8147aca75edf3a564e5ebe
   "metadata": {},
   "outputs": [
    {
     "name": "stdout",
     "output_type": "stream",
     "text": [
      "1707035\n"
     ]
    }
   ],
   "source": [
    "# 태깅된 각 형태소들을 하나의 list로 합침\n",
    "tokens = [t for d in text_docs for t in d]\n",
    "print(len(tokens))"
   ]
  },
  {
   "cell_type": "code",
<<<<<<< HEAD
   "execution_count": 7,
=======
   "execution_count": 22,
>>>>>>> d8dca1e955655864bc8147aca75edf3a564e5ebe
   "metadata": {},
   "outputs": [
    {
     "name": "stdout",
     "output_type": "stream",
     "text": [
      "1707035\n",
      "24065\n"
     ]
    }
   ],
   "source": [
    "import nltk\n",
    "from pprint import pprint\n",
    "\n",
    "nltk_text = nltk.Text(tokens, name='NMSC')\n",
    "\n",
    "# 전체 토큰의 개수\n",
    "total_tokens = nltk_text.tokens\n",
    "print(len(total_tokens))\n",
    "\n",
    "# 중복을 제외한 토큰의 개수\n",
    "set_total_tokens = list(set(nltk_text.tokens))\n",
    "print(len(set_total_tokens))            \n",
    "\n",
    "# 출현 빈도가 높은 상위 토큰 10개\n",
    "#pprint(nltk_text.vocab().most_common(50))"
   ]
  },
  {
   "cell_type": "markdown",
   "metadata": {},
   "source": [
    "### Word2vec"
   ]
  },
  {
   "cell_type": "code",
<<<<<<< HEAD
   "execution_count": 8,
=======
   "execution_count": 23,
>>>>>>> d8dca1e955655864bc8147aca75edf3a564e5ebe
   "metadata": {},
   "outputs": [],
   "source": [
    "# 빈도수가 50개 이상인 token 확인.\n",
    "most_common_tokens = nltk_text.vocab().most_common(len(set_total_tokens))\n",
    "for i in range(len(set_total_tokens)):\n",
    "    if(most_common_tokens[i][1]<50):\n",
    "        index = i\n",
    "        break\n",
    "most_common_tokens_50 = most_common_tokens[:index]"
   ]
  },
  {
   "cell_type": "code",
<<<<<<< HEAD
   "execution_count": 9,
   "metadata": {},
=======
   "execution_count": 26,
   "metadata": {
    "scrolled": true
   },
>>>>>>> d8dca1e955655864bc8147aca75edf3a564e5ebe
   "outputs": [
    {
     "name": "stderr",
     "output_type": "stream",
     "text": [
<<<<<<< HEAD
      "C:\\Users\\0000\\Anaconda3\\lib\\site-packages\\gensim\\utils.py:1197: UserWarning: detected Windows; aliasing chunkize to chunkize_serial\n",
=======
      "C:\\Users\\thehb\\AppData\\Local\\Continuum\\anaconda3\\lib\\site-packages\\gensim\\utils.py:1197: UserWarning: detected Windows; aliasing chunkize to chunkize_serial\n",
>>>>>>> d8dca1e955655864bc8147aca75edf3a564e5ebe
      "  warnings.warn(\"detected Windows; aliasing chunkize to chunkize_serial\")\n"
     ]
    }
   ],
   "source": [
    "# Word embedding(Word2vec 사용)\n",
    "from gensim.models import Word2Vec\n",
    "embedding_model = Word2Vec(text_docs, size=100, window = 2, min_count=50, workers=4, iter=100, sg=1)"
   ]
  },
  {
   "cell_type": "code",
<<<<<<< HEAD
   "execution_count": 10,
=======
   "execution_count": 58,
   "metadata": {},
   "outputs": [],
   "source": [
    "embedding_model.save(r'C:\\Users\\thehb\\Code\\sentenceExtraction_with_Article\\embedding_model') # 모델 저장"
   ]
  },
  {
   "cell_type": "code",
   "execution_count": 67,
>>>>>>> d8dca1e955655864bc8147aca75edf3a564e5ebe
   "metadata": {},
   "outputs": [
    {
     "name": "stdout",
     "output_type": "stream",
     "text": [
<<<<<<< HEAD
      "피해/Noun\n",
      "피해자/Noun\n",
      "피해망상/Noun\n"
=======
      "피해망상/Noun\n",
      "피해자/Noun\n",
      "피해/Noun\n"
>>>>>>> d8dca1e955655864bc8147aca75edf3a564e5ebe
     ]
    }
   ],
   "source": [
    "for s in set_total_tokens:\n",
    "    if(\"피해\" in s):\n",
    "        print(s)"
   ]
  },
  {
   "cell_type": "code",
<<<<<<< HEAD
   "execution_count": 128,
=======
   "execution_count": 66,
>>>>>>> d8dca1e955655864bc8147aca75edf3a564e5ebe
   "metadata": {},
   "outputs": [
    {
     "name": "stdout",
     "output_type": "stream",
     "text": [
<<<<<<< HEAD
      "['인명/Noun', '침수/Noun', '재산/Noun', '화재/Noun', '사고/Noun', '농작물/Noun', '사망자/Noun', '폐/Noun', '규모/Noun', '대처/Noun']\n"
=======
      "['인명/Noun', '침수/Noun', '규모/Noun', '재산/Noun', '화재/Noun', '농작물/Noun', '농가/Noun', '손해/Noun', '대비/Noun', '폐/Noun']\n"
>>>>>>> d8dca1e955655864bc8147aca75edf3a564e5ebe
     ]
    },
    {
     "name": "stderr",
     "output_type": "stream",
     "text": [
<<<<<<< HEAD
      "C:\\Users\\0000\\Anaconda3\\lib\\site-packages\\ipykernel_launcher.py:2: DeprecationWarning: Call to deprecated `most_similar` (Method will be removed in 4.0.0, use self.wv.most_similar() instead).\n",
=======
      "C:\\Users\\thehb\\AppData\\Local\\Continuum\\anaconda3\\lib\\site-packages\\ipykernel_launcher.py:2: DeprecationWarning: Call to deprecated `most_similar` (Method will be removed in 4.0.0, use self.wv.most_similar() instead).\n",
>>>>>>> d8dca1e955655864bc8147aca75edf3a564e5ebe
      "  \n"
     ]
    }
   ],
   "source": [
    "# 두 벡터 사이의 코사인 유사도를 구함. 값이 클수록 비슷한 단어\n",
    "word_similar = embedding_model.most_similar(positive=[\"피해/Noun\"], topn=10)\n",
    "#print(embedding_model.most_similar(positive=[\"피해/Noun\"], topn=100))\n",
    "print([i[0] for i in word_similar])"
   ]
  },
  {
   "cell_type": "code",
<<<<<<< HEAD
   "execution_count": 129,
=======
   "execution_count": 29,
>>>>>>> d8dca1e955655864bc8147aca75edf3a564e5ebe
   "metadata": {},
   "outputs": [],
   "source": [
    "words_damage = ['인명', '침수', '재산', '화재', '사고', '농작물', '사망자']"
   ]
  },
  {
   "cell_type": "markdown",
   "metadata": {},
   "source": [
    "## 기사를 문장별로 토큰화"
   ]
  },
  {
   "cell_type": "code",
<<<<<<< HEAD
   "execution_count": 130,
=======
   "execution_count": 30,
>>>>>>> d8dca1e955655864bc8147aca75edf3a564e5ebe
   "metadata": {},
   "outputs": [],
   "source": [
    "from konlpy.tag import Kkma\n",
    "kkma = Kkma()"
   ]
  },
  {
   "cell_type": "code",
<<<<<<< HEAD
   "execution_count": 132,
=======
   "execution_count": 32,
>>>>>>> d8dca1e955655864bc8147aca75edf3a564e5ebe
   "metadata": {},
   "outputs": [],
   "source": [
    "sentence_tokens = [] # 기사를 문장별로 토큰화한 결과값을 list에 저장\n",
    "articles = list(set(text)) # 중복되는 기사 제거\n",
    "for article in articles:\n",
    "    sentence_tokens.append(kkma.sentences(article))    "
   ]
  },
  {
   "cell_type": "markdown",
   "metadata": {},
   "source": [
    "## '피해'라는 단어와 top7 단어가 함께 들어있는 문장 추출"
   ]
  },
  {
   "cell_type": "code",
<<<<<<< HEAD
   "execution_count": 133,
=======
   "execution_count": 33,
>>>>>>> d8dca1e955655864bc8147aca75edf3a564e5ebe
   "metadata": {},
   "outputs": [],
   "source": [
    "sentences_damage = []\n",
    "for sentences in sentence_tokens:\n",
    "    for sentence in sentences:\n",
    "        isExist = False        \n",
    "        for word_damage in words_damage:\n",
    "            if isExist == False:\n",
    "                if (word_damage in sentence) and ('피해' in sentence):\n",
    "                    sentences_damage.append(sentence)\n",
    "                    isExist = True"
   ]
  },
  {
   "cell_type": "code",
<<<<<<< HEAD
   "execution_count": 139,
=======
   "execution_count": 34,
>>>>>>> d8dca1e955655864bc8147aca75edf3a564e5ebe
   "metadata": {},
   "outputs": [
    {
     "data": {
      "text/plain": [
<<<<<<< HEAD
       "['또 일부 저지대 주택과 농경지가 침수되고 행인이 고립되는 등 10 여 건의 피해가 났습니다.',\n",
       " '온 열 질환자와 사망자가 급증하고 전력 소비량이 최대치를 경신하며 농작물과 가축 제조업 등에서 막대한 피해가 발생한다는 겁니다.',\n",
       " '다행히 사고 당시 다리를 지나던 차량이 많지 않아 피해는 발생하지 않았습니다.',\n",
       " '직원들이 재빨리 대피해 다친 사람은 없었지만 부화장 한 개 동이 모두 타 8천만 원의 재산피해가 났습니다.',\n",
       " '대전 통영 고속도로 하행선 경남 산청 IC 인근에서 그레이스 승합차에 불이 나 전소됐지만 인명 피해는 없었습니다.',\n",
       " '■ 고물 상 화재 …2 천만 원 피해 경남 김 해의 한 고물상에서도 불이 나 고물상 내 조립식 건물과 야적장 일부를 태워 소방서 추산 2천만 원 상당의 재산피해를 내고 20여 분 만에 꺼졌습니다.',\n",
       " '화재 당시 현장에 사람이 없어 인명피해는 없었습니다.',\n",
       " '[ 전 경 윤 침수 피해 횟집 주인 더위를 식히나 했지 저녁에는 그랬는데 난데없이 너무 많이 쏟아지니까 피해가 이만저만이 아니죠.]',\n",
       " '주택과 상가 침수 등 접수된 비 피해 신고는 강릉 지역에서만 80건이 넘습니다.',\n",
       " '이와 함께 불볕 더위로 전력 사용량이 크게 늘면서 축사 화재와 정전사고가 우려되므로 미리 점검해야 피해를 막을 수 있습니다.']"
      ]
     },
     "execution_count": 139,
=======
       "['따라서 침수 피해 없도록 배수로 점검해야 되겠고 특히 밤에 제주도 통과하기 때문에 대피 준비도 우리가 말하는 손전등 요즘은 다 휴대폰들 가지고 다니니까 통신 문제는 그렇게 큰 문제가 없는데. 문제는 많은 비로 강풍으로 인해서 정전이 되는 사태가 발생을 하거든요.',\n",
       " '산사태와 침수 피해가 우려되는 만큼 대비 철저히 해 주시기 바랍니다.',\n",
       " '잇따른 농작물 피해에 이어 계곡과 약수터의 물까지 말라가고 있습니다.',\n",
       " '한국도로 공사는 날씨로 인해 도로 상황이 좋았고 최근 대형 교통사고가 여러 건 발생하면서 운전자들의 경각심이 높아 진 것도 사고 피해가 감소한 원인으로 보인다고 설명했습니다.',\n",
       " '신 현우 옥시 전 사장 등 증인과 참고인 18명이 출석하지 않기로 하거나 출석 여부가 불확실한 가운데 특위는 정부와 업체 관계자들을 상대로 가습기 살균제 피해 사고의 책임 소재와 재발방지 대책을 추궁하고 있습니다.',\n",
       " '시설물 피해와 안전사고가 우려되는 상황입니다.',\n",
       " '물놀이를 할 때는 안전관리요원이 있는 곳에서 구명조끼 등 안전장비를 착용해야 인명 피해를 줄일 수 있습니다.',\n",
       " '[ 앵커] 어제 충북과 강원 경북 등 중부 지역 곳곳에 굵은 우박이 떨어졌는데요 짧은 시간 쏟아졌지만 추석을 앞두고 사과 등 농작물이 큰 피해를 봤습니다.',\n",
       " '우박은 국지적이며 돌발적인 현상으로 정확한 발생지역을 사실상 예측하기가 어렵고 얼음 알갱이가 떨어지는 힘 때문에 짧은 시간의 우 박에도 농작물에 심각한 피해를 주게 됩니다.',\n",
       " '그런 데 이번 우박으로 농작물 피해가 클 것 같은데 상황 어떤 가요[ 기자] 네']"
      ]
     },
     "execution_count": 34,
>>>>>>> d8dca1e955655864bc8147aca75edf3a564e5ebe
     "metadata": {},
     "output_type": "execute_result"
    }
   ],
   "source": [
    "sentences_damage[10:20]"
   ]
  },
  {
   "cell_type": "code",
<<<<<<< HEAD
   "execution_count": 137,
=======
   "execution_count": 35,
>>>>>>> d8dca1e955655864bc8147aca75edf3a564e5ebe
   "metadata": {},
   "outputs": [
    {
     "data": {
      "text/plain": [
       "369"
      ]
     },
<<<<<<< HEAD
     "execution_count": 137,
=======
     "execution_count": 35,
>>>>>>> d8dca1e955655864bc8147aca75edf3a564e5ebe
     "metadata": {},
     "output_type": "execute_result"
    }
   ],
   "source": [
    "len(sentences_damage)"
   ]
  },
  {
<<<<<<< HEAD
   "cell_type": "code",
   "execution_count": 140,
   "metadata": {},
   "outputs": [],
   "source": [
    "f = open(r'C:\\Users\\0000\\Desktop\\sentenceExtraction_with_Article\\sentences_damage.csv', 'w', encoding='utf-8', newline='')\n",
=======
   "cell_type": "markdown",
   "metadata": {},
   "source": [
    "### 추출된 문장 csv파일로 저장"
   ]
  },
  {
   "cell_type": "code",
   "execution_count": 36,
   "metadata": {},
   "outputs": [],
   "source": [
    "f = open(r'C:\\Users\\thehb\\Code\\sentenceExtraction_with_Article\\sentences_damage.csv', 'w', encoding='utf-8', newline='')\n",
>>>>>>> d8dca1e955655864bc8147aca75edf3a564e5ebe
    "wr = csv.writer(f)\n",
    "for i in sentences_damage:\n",
    "    wr.writerow([i])\n",
    "f.close()"
   ]
  }
 ],
 "metadata": {
  "kernelspec": {
   "display_name": "Python 3",
   "language": "python",
   "name": "python3"
  },
  "language_info": {
   "codemirror_mode": {
    "name": "ipython",
    "version": 3
   },
   "file_extension": ".py",
   "mimetype": "text/x-python",
   "name": "python",
   "nbconvert_exporter": "python",
   "pygments_lexer": "ipython3",
   "version": "3.7.3"
  }
 },
 "nbformat": 4,
 "nbformat_minor": 4
}
