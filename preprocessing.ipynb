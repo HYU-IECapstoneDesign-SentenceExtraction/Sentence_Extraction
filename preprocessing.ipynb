{
 "cells": [
  {
   "cell_type": "markdown",
   "metadata": {},
   "source": [
    "### 품사 태깅"
   ]
  },
  {
   "cell_type": "code",
   "execution_count": 103,
   "metadata": {},
   "outputs": [],
   "source": [
    "# csv파일 불러옴\n",
    "import csv\n",
    "import re\n",
    "\n",
    "raw = []\n",
    "f = open(r'C:\\Users\\Yang\\Desktop\\project\\ytn_article.csv', 'r', encoding='utf-8')\n",
    "rdr = csv.reader(f)\n",
    "for line in rdr:\n",
    "    raw.append(line)\n",
    "f.close()  \n",
    "\n",
    "# 빈 text 제거 & 특수문자 제거\n",
    "text = []\n",
    "for i in range(len(raw)):\n",
    "    if(raw[i][0] is not ' '):\n",
    "        newtext = re.sub('[-=+,#/\\?:^$@*\\\"~&%!<>()\"]', '', raw[i][0])\n",
    "        text.append(newtext)"
   ]
  },
  {
   "cell_type": "code",
   "execution_count": 2,
   "metadata": {},
   "outputs": [],
   "source": [
    "# 품사 태깅(주어진 텍스트를 형태소 단위로 나누고 나눠진 형태소를 해당하는 품사와 함께 리스트화)\n",
    "# stemming(단어들을 원형으로 포현), normalization(표현 방법이 다른 단어들을 통합시켜 같은 단어로 만듬)\n",
    "import json\n",
    "import os\n",
    "from konlpy.tag import Okt\n",
    "\n",
    "okt = Okt()\n",
    "\n",
    "def tokenize(doc): # 형태소 분석기인 Okt를 이용해서 품사를 태깅시킴\n",
    "    # norm은 정규화, stem은 근어로 표시하기를 나타냄\n",
    "    return ['/'.join(t) for t in okt.pos(doc, norm=True, stem=True)]\n",
    "\n",
    "os.chdir(r'C:\\Users\\Yang\\Desktop\\project') # 경로 설정"
   ]
  },
  {
   "cell_type": "code",
   "execution_count": 3,
   "metadata": {},
   "outputs": [],
   "source": [
    "if os.path.isfile('text_docs.json'): # 경로에 text_docs.json 파일이 존재하면 json파일을 만들지 않고 load함\n",
    "    with open('text_docs.json', encoding='utf-8') as f:\n",
    "        text_docs = json.load(f)\n",
    "else: # json파일이 없을 경우 text를 품사 태깅시킨 데이터로 변환시켜 json파일로 저장\n",
    "    text_docs = [(tokenize(row)) for row in text]\n",
    "    # JSON 파일로 저장\n",
    "    with open('text_docs.json', 'w', encoding=\"utf-8\") as make_file:\n",
    "        json.dump(text_docs, make_file, ensure_ascii=False, indent=\"\\t\")"
   ]
  },
  {
   "cell_type": "code",
   "execution_count": 9,
   "metadata": {},
   "outputs": [
    {
     "name": "stdout",
     "output_type": "stream",
     "text": [
      "1707035\n"
     ]
    }
   ],
   "source": [
    "# 태깅된 각 형태소들을 하나의 list로 합침\n",
    "tokens = [t for d in text_docs for t in d]\n",
    "print(len(tokens))"
   ]
  },
  {
   "cell_type": "code",
   "execution_count": 14,
   "metadata": {},
   "outputs": [
    {
     "name": "stdout",
     "output_type": "stream",
     "text": [
      "1707035\n",
      "24065\n"
     ]
    }
   ],
   "source": [
    "import nltk\n",
    "from pprint import pprint\n",
    "\n",
    "nltk_text = nltk.Text(tokens, name='NMSC')\n",
    "\n",
    "# 전체 토큰의 개수\n",
    "total_tokens = nltk_text.tokens\n",
    "print(len(total_tokens))\n",
    "\n",
    "# 중복을 제외한 토큰의 개수\n",
    "set_total_tokens = list(set(nltk_text.tokens))\n",
    "print(len(set_total_tokens))            \n",
    "\n",
    "# 출현 빈도가 높은 상위 토큰 10개\n",
    "#pprint(nltk_text.vocab().most_common(50))"
   ]
  },
  {
   "cell_type": "markdown",
   "metadata": {},
   "source": [
    "### Word2vec"
   ]
  },
  {
   "cell_type": "code",
   "execution_count": 34,
   "metadata": {},
   "outputs": [],
   "source": [
    "# 빈도수가 50개 이상인 token 확인.\n",
    "most_common_tokens = nltk_text.vocab().most_common(len(set_total_tokens))\n",
    "for i in range(len(set_total_tokens)):\n",
    "    if(most_common_tokens[i][1]<50):\n",
    "        index = i\n",
    "        break\n",
    "most_common_tokens_50 = most_common_tokens[:index]"
   ]
  },
  {
   "cell_type": "code",
   "execution_count": 4,
   "metadata": {},
   "outputs": [],
   "source": [
    "# Word embedding(Word2vec 사용)\n",
    "from gensim.models import Word2Vec\n",
    "embedding_model = Word2Vec(text_docs, size=100, window = 2, min_count=50, workers=4, iter=100, sg=1)"
   ]
  },
  {
   "cell_type": "code",
   "execution_count": 21,
   "metadata": {},
   "outputs": [
    {
     "name": "stdout",
     "output_type": "stream",
     "text": [
      "피해망상/Noun\n",
      "피해/Noun\n",
      "피해자/Noun\n"
     ]
    }
   ],
   "source": [
    "for s in set_total_tokens:\n",
    "    if(\"피해\" in s):\n",
    "        print(s)"
   ]
  },
  {
   "cell_type": "code",
   "execution_count": 34,
   "metadata": {},
   "outputs": [
    {
     "name": "stdout",
     "output_type": "stream",
     "text": [
      "['인명/Noun', '침수/Noun', '재산/Noun', '사고/Noun', '화재/Noun', '규모/Noun', '농작물/Noun', '손해/Noun', '폐/Noun', '사망자/Noun']\n"
     ]
    },
    {
     "name": "stderr",
     "output_type": "stream",
     "text": [
      "C:\\Users\\Yang\\Anaconda3\\envs\\tensorflow\\lib\\site-packages\\ipykernel_launcher.py:2: DeprecationWarning: Call to deprecated `most_similar` (Method will be removed in 4.0.0, use self.wv.most_similar() instead).\n",
      "  \n"
     ]
    }
   ],
   "source": [
    "# 두 벡터 사이의 코사인 유사도를 구함. 값이 클수록 비슷한 단어\n",
    "word_similar = embedding_model.most_similar(positive=[\"피해/Noun\"], topn=10)\n",
    "#print(embedding_model.most_similar(positive=[\"피해/Noun\"], topn=100))\n",
    "print([i[0] for i in word_similar])"
   ]
  }
 ],
 "metadata": {
  "kernelspec": {
   "display_name": "Python 3",
   "language": "python",
   "name": "python3"
  },
  "language_info": {
   "codemirror_mode": {
    "name": "ipython",
    "version": 3
   },
   "file_extension": ".py",
   "mimetype": "text/x-python",
   "name": "python",
   "nbconvert_exporter": "python",
   "pygments_lexer": "ipython3",
   "version": "3.6.8"
  }
 },
 "nbformat": 4,
 "nbformat_minor": 4
}
